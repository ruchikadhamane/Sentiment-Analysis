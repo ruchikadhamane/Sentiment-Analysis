{
 "cells": [
  {
   "cell_type": "code",
   "execution_count": 3,
   "metadata": {},
   "outputs": [],
   "source": [
    "#Importing  the required libraries\n",
    "import pandas as pd \n",
    "import matplotlib.pyplot as plt\n",
    "import re\n",
    "from sklearn.model_selection import train_test_split\n",
    "from sklearn.feature_extraction.text import TfidfVectorizer\n",
    "from sklearn.linear_model import LogisticRegression\n",
    "from sklearn.metrics import confusion_matrix\n",
    "from sklearn.metrics import accuracy_score, precision_score, recall_score\n"
   ]
  },
  {
   "cell_type": "code",
   "execution_count": 6,
   "metadata": {},
   "outputs": [
    {
     "data": {
      "text/html": [
       "<div>\n",
       "<style scoped>\n",
       "    .dataframe tbody tr th:only-of-type {\n",
       "        vertical-align: middle;\n",
       "    }\n",
       "\n",
       "    .dataframe tbody tr th {\n",
       "        vertical-align: top;\n",
       "    }\n",
       "\n",
       "    .dataframe thead th {\n",
       "        text-align: right;\n",
       "    }\n",
       "</style>\n",
       "<table border=\"1\" class=\"dataframe\">\n",
       "  <thead>\n",
       "    <tr style=\"text-align: right;\">\n",
       "      <th></th>\n",
       "      <th>Partner ID</th>\n",
       "      <th>Response</th>\n",
       "      <th>Sentiment</th>\n",
       "    </tr>\n",
       "  </thead>\n",
       "  <tbody>\n",
       "    <tr>\n",
       "      <th>0</th>\n",
       "      <td>629694</td>\n",
       "      <td>the portal is very slow</td>\n",
       "      <td>Negative</td>\n",
       "    </tr>\n",
       "    <tr>\n",
       "      <th>1</th>\n",
       "      <td>635501</td>\n",
       "      <td>\"System runs very slow, not always accurate\"</td>\n",
       "      <td>Negative</td>\n",
       "    </tr>\n",
       "    <tr>\n",
       "      <th>2</th>\n",
       "      <td>10000000172</td>\n",
       "      <td>The website does not function well and freezes...</td>\n",
       "      <td>Negative</td>\n",
       "    </tr>\n",
       "    <tr>\n",
       "      <th>3</th>\n",
       "      <td>10000000195</td>\n",
       "      <td>\"The delivery metrics are very delayed,</td>\n",
       "      <td>Negative</td>\n",
       "    </tr>\n",
       "    <tr>\n",
       "      <th>4</th>\n",
       "      <td>10000000195</td>\n",
       "      <td>you can not delete SKU's</td>\n",
       "      <td>Negative</td>\n",
       "    </tr>\n",
       "    <tr>\n",
       "      <th>5</th>\n",
       "      <td>10000000195</td>\n",
       "      <td>and the refund process and information is hard...</td>\n",
       "      <td>Negative</td>\n",
       "    </tr>\n",
       "    <tr>\n",
       "      <th>6</th>\n",
       "      <td>10000000243</td>\n",
       "      <td>Some features are not available</td>\n",
       "      <td>Negative</td>\n",
       "    </tr>\n",
       "    <tr>\n",
       "      <th>7</th>\n",
       "      <td>10000000280</td>\n",
       "      <td>good website to shop from\\n</td>\n",
       "      <td>Positive</td>\n",
       "    </tr>\n",
       "    <tr>\n",
       "      <th>8</th>\n",
       "      <td>10000000316</td>\n",
       "      <td>\"too hard to navigate at product level.</td>\n",
       "      <td>Negative</td>\n",
       "    </tr>\n",
       "    <tr>\n",
       "      <th>9</th>\n",
       "      <td>10000000316</td>\n",
       "      <td>have to switch from sellerfulfilled to WFS and...</td>\n",
       "      <td>Negative</td>\n",
       "    </tr>\n",
       "    <tr>\n",
       "      <th>10</th>\n",
       "      <td>10000000316</td>\n",
       "      <td>I have to click filter, select SKU, provide sk...</td>\n",
       "      <td>Negative</td>\n",
       "    </tr>\n",
       "    <tr>\n",
       "      <th>11</th>\n",
       "      <td>10000000325</td>\n",
       "      <td>Not as easily to use as Amazon</td>\n",
       "      <td>Negative</td>\n",
       "    </tr>\n",
       "    <tr>\n",
       "      <th>12</th>\n",
       "      <td>10000000405</td>\n",
       "      <td>limited functionality</td>\n",
       "      <td>Negative</td>\n",
       "    </tr>\n",
       "    <tr>\n",
       "      <th>13</th>\n",
       "      <td>10000000484</td>\n",
       "      <td>One of the Big 3\\n</td>\n",
       "      <td>Neutral</td>\n",
       "    </tr>\n",
       "    <tr>\n",
       "      <th>14</th>\n",
       "      <td>10000000553</td>\n",
       "      <td>The navigation is easy</td>\n",
       "      <td>Positive</td>\n",
       "    </tr>\n",
       "    <tr>\n",
       "      <th>15</th>\n",
       "      <td>10000000553</td>\n",
       "      <td>but it's IMPOSSIBLE to make manual changes to ...</td>\n",
       "      <td>Negative</td>\n",
       "    </tr>\n",
       "    <tr>\n",
       "      <th>16</th>\n",
       "      <td>10000000591</td>\n",
       "      <td>Poor seller support</td>\n",
       "      <td>Negative</td>\n",
       "    </tr>\n",
       "    <tr>\n",
       "      <th>17</th>\n",
       "      <td>10000000591</td>\n",
       "      <td>lack of content screening.</td>\n",
       "      <td>Negative</td>\n",
       "    </tr>\n",
       "    <tr>\n",
       "      <th>18</th>\n",
       "      <td>10000000595</td>\n",
       "      <td>Seller center has improved tremendously</td>\n",
       "      <td>Positive</td>\n",
       "    </tr>\n",
       "    <tr>\n",
       "      <th>19</th>\n",
       "      <td>10000000595</td>\n",
       "      <td>but there still some issues with support.</td>\n",
       "      <td>Negative</td>\n",
       "    </tr>\n",
       "  </tbody>\n",
       "</table>\n",
       "</div>"
      ],
      "text/plain": [
       "     Partner ID                                           Response Sentiment\n",
       "0        629694                            the portal is very slow  Negative\n",
       "1        635501       \"System runs very slow, not always accurate\"  Negative\n",
       "2   10000000172  The website does not function well and freezes...  Negative\n",
       "3   10000000195           \"The delivery metrics are very delayed,   Negative\n",
       "4   10000000195                           you can not delete SKU's  Negative\n",
       "5   10000000195  and the refund process and information is hard...  Negative\n",
       "6   10000000243                   Some features are not available   Negative\n",
       "7   10000000280                        good website to shop from\\n  Positive\n",
       "8   10000000316         \"too hard to navigate at product level.     Negative\n",
       "9   10000000316  have to switch from sellerfulfilled to WFS and...  Negative\n",
       "10  10000000316  I have to click filter, select SKU, provide sk...  Negative\n",
       "11  10000000325                     Not as easily to use as Amazon  Negative\n",
       "12  10000000405                              limited functionality  Negative\n",
       "13  10000000484                                 One of the Big 3\\n   Neutral\n",
       "14  10000000553                            The navigation is easy   Positive\n",
       "15  10000000553  but it's IMPOSSIBLE to make manual changes to ...  Negative\n",
       "16  10000000591                               Poor seller support   Negative\n",
       "17  10000000591                       lack of content screening.    Negative\n",
       "18  10000000595            Seller center has improved tremendously  Positive\n",
       "19  10000000595          but there still some issues with support.  Negative"
      ]
     },
     "execution_count": 6,
     "metadata": {},
     "output_type": "execute_result"
    }
   ],
   "source": [
    "#Load the dataset\n",
    "dataset = pd.read_excel(r'F:/PGDM-RBA/Summer Internship/Seller Center_SentimentAnalysis.xlsx')\n",
    "\n",
    "dataset.head(20)"
   ]
  },
  {
   "cell_type": "code",
   "execution_count": 5,
   "metadata": {},
   "outputs": [
    {
     "data": {
      "text/plain": [
       "(3619, 3)"
      ]
     },
     "execution_count": 5,
     "metadata": {},
     "output_type": "execute_result"
    }
   ],
   "source": [
    "dataset.shape"
   ]
  },
  {
   "cell_type": "code",
   "execution_count": 4,
   "metadata": {},
   "outputs": [
    {
     "name": "stdout",
     "output_type": "stream",
     "text": [
      "Percentage for Sentiment\n",
      "\n",
      "Negative    69.218\n",
      "Positive    28.654\n",
      "Neutral      2.128\n",
      "Name: Sentiment, dtype: float64\n"
     ]
    },
    {
     "data": {
      "image/png": "[encoded data removed]",
      "text/plain": [
       "<Figure size 432x288 with 1 Axes>"
      ]
     },
     "metadata": {
      "needs_background": "light"
     },
     "output_type": "display_data"
    }
   ],
   "source": [
    "#Checking for the distribution of Sentiments\n",
    "import matplotlib.pyplot as plt\n",
    "%matplotlib inline\n",
    "print(\"Percentage for Sentiment\\n\")\n",
    "print(round(dataset.Sentiment.value_counts(normalize=True)*100,3))\n",
    "round(dataset.Sentiment.value_counts(normalize=True)*100,3).plot(kind='bar')\n",
    "plt.title('Percentage distribution by Sentiment')\n",
    "plt.show()"
   ]
  },
  {
   "cell_type": "code",
   "execution_count": 5,
   "metadata": {},
   "outputs": [],
   "source": [
    "#data cleaning\n",
    "import re\n",
    "\n",
    "#This function converts to lower case and removes punctuations\n",
    "def text_clean_1(text):\n",
    "    text=text.lower()\n",
    "    text= re.sub(r'[?!\".;:,#@-]', '', text)\n",
    "    return text\n",
    "cleaned1= lambda x: text_clean_1(x)"
   ]
  },
  {
   "cell_type": "code",
   "execution_count": 6,
   "metadata": {},
   "outputs": [
    {
     "data": {
      "text/html": [
       "<div>\n",
       "<style scoped>\n",
       "    .dataframe tbody tr th:only-of-type {\n",
       "        vertical-align: middle;\n",
       "    }\n",
       "\n",
       "    .dataframe tbody tr th {\n",
       "        vertical-align: top;\n",
       "    }\n",
       "\n",
       "    .dataframe thead th {\n",
       "        text-align: right;\n",
       "    }\n",
       "</style>\n",
       "<table border=\"1\" class=\"dataframe\">\n",
       "  <thead>\n",
       "    <tr style=\"text-align: right;\">\n",
       "      <th></th>\n",
       "      <th>Partner ID</th>\n",
       "      <th>Response</th>\n",
       "      <th>Sentiment</th>\n",
       "      <th>cleaned_Response</th>\n",
       "    </tr>\n",
       "  </thead>\n",
       "  <tbody>\n",
       "    <tr>\n",
       "      <th>0</th>\n",
       "      <td>629694</td>\n",
       "      <td>the portal is very slow</td>\n",
       "      <td>Negative</td>\n",
       "      <td>the portal is very slow</td>\n",
       "    </tr>\n",
       "    <tr>\n",
       "      <th>1</th>\n",
       "      <td>635501</td>\n",
       "      <td>\"System runs very slow, not always accurate\"</td>\n",
       "      <td>Negative</td>\n",
       "      <td>system runs very slow not always accurate</td>\n",
       "    </tr>\n",
       "    <tr>\n",
       "      <th>2</th>\n",
       "      <td>10000000172</td>\n",
       "      <td>The website does not function well and freezes...</td>\n",
       "      <td>Negative</td>\n",
       "      <td>the website does not function well and freezes...</td>\n",
       "    </tr>\n",
       "    <tr>\n",
       "      <th>3</th>\n",
       "      <td>10000000195</td>\n",
       "      <td>\"The delivery metrics are very delayed,</td>\n",
       "      <td>Negative</td>\n",
       "      <td>the delivery metrics are very delayed</td>\n",
       "    </tr>\n",
       "    <tr>\n",
       "      <th>4</th>\n",
       "      <td>10000000195</td>\n",
       "      <td>you can not delete SKU's</td>\n",
       "      <td>Negative</td>\n",
       "      <td>you can not delete sku's</td>\n",
       "    </tr>\n",
       "  </tbody>\n",
       "</table>\n",
       "</div>"
      ],
      "text/plain": [
       "    Partner ID                                           Response Sentiment  \\\n",
       "0       629694                            the portal is very slow  Negative   \n",
       "1       635501       \"System runs very slow, not always accurate\"  Negative   \n",
       "2  10000000172  The website does not function well and freezes...  Negative   \n",
       "3  10000000195           \"The delivery metrics are very delayed,   Negative   \n",
       "4  10000000195                           you can not delete SKU's  Negative   \n",
       "\n",
       "                                    cleaned_Response  \n",
       "0                            the portal is very slow  \n",
       "1          system runs very slow not always accurate  \n",
       "2  the website does not function well and freezes...  \n",
       "3             the delivery metrics are very delayed   \n",
       "4                           you can not delete sku's  "
      ]
     },
     "execution_count": 6,
     "metadata": {},
     "output_type": "execute_result"
    }
   ],
   "source": [
    "#Lets take a look at the updated text\n",
    "dataset['cleaned_Response']=pd.DataFrame(dataset.Response.apply(cleaned1))\n",
    "dataset.head()"
   ]
  },
  {
   "cell_type": "code",
   "execution_count": 7,
   "metadata": {},
   "outputs": [
    {
     "name": "stdout",
     "output_type": "stream",
     "text": [
      "IV_train : 2895\n",
      "IV_test : 724\n",
      "DV_train : 2895\n",
      "DV_test : 724\n"
     ]
    }
   ],
   "source": [
    "from sklearn.model_selection import train_test_split\n",
    "\n",
    "Independent_variable = dataset.cleaned_Response\n",
    "Dependent_variable = dataset.Sentiment\n",
    "\n",
    "IV_train, IV_test, DV_train, DV_test = train_test_split(Independent_variable, Dependent_variable, test_size = 0.2, random_state = 225)\n",
    "\n",
    "print('IV_train :', len(IV_train))\n",
    "print('IV_test :', len(IV_test))\n",
    "print('DV_train :', len(DV_train))\n",
    "print('DV_test :', len(DV_test))\n"
   ]
  },
  {
   "cell_type": "code",
   "execution_count": 8,
   "metadata": {},
   "outputs": [],
   "source": [
    "from sklearn.feature_extraction.text import TfidfVectorizer\n",
    "from sklearn.linear_model import LogisticRegression\n",
    "\n",
    "tvec = TfidfVectorizer()\n",
    "clf2 = LogisticRegression(solver = \"lbfgs\")\n",
    "\n",
    "from sklearn.pipeline import Pipeline\n"
   ]
  },
  {
   "cell_type": "code",
   "execution_count": 9,
   "metadata": {},
   "outputs": [
    {
     "data": {
      "text/plain": [
       "Pipeline(steps=[('vectorizer', TfidfVectorizer()),\n",
       "                ('classifier', LogisticRegression())])"
      ]
     },
     "execution_count": 9,
     "metadata": {},
     "output_type": "execute_result"
    }
   ],
   "source": [
    "model = Pipeline([('vectorizer',tvec),('classifier',clf2)])\n",
    "\n",
    "model.fit(IV_train, DV_train)"
   ]
  },
  {
   "cell_type": "code",
   "execution_count": null,
   "metadata": {},
   "outputs": [],
   "source": []
  },
  {
   "cell_type": "code",
   "execution_count": 12,
   "metadata": {},
   "outputs": [
    {
     "data": {
      "text/plain": [
       "array([[489,  20,  32],\n",
       "       [  0,   0,   0],\n",
       "       [ 10,   3, 170]], dtype=int64)"
      ]
     },
     "execution_count": 12,
     "metadata": {},
     "output_type": "execute_result"
    }
   ],
   "source": [
    "from sklearn.metrics import confusion_matrix\n",
    "predictions = model.predict(IV_test)\n",
    "confusion_matrix(predictions, DV_test)"
   ]
  },
  {
   "cell_type": "code",
   "execution_count": 13,
   "metadata": {},
   "outputs": [
    {
     "name": "stdout",
     "output_type": "stream",
     "text": [
      "Accuracy :  0.9102209944751382\n",
      "Precision :  0.9449837259991236\n",
      "Recall :  0.9102209944751382\n"
     ]
    },
    {
     "name": "stderr",
     "output_type": "stream",
     "text": [
      "C:\\Users\\shree\\anaconda3\\lib\\site-packages\\sklearn\\metrics\\_classification.py:1221: UndefinedMetricWarning: Recall is ill-defined and being set to 0.0 in labels with no true samples. Use `zero_division` parameter to control this behavior.\n",
      "  _warn_prf(average, modifier, msg_start, len(result))\n"
     ]
    }
   ],
   "source": [
    "from sklearn.metrics import accuracy_score, precision_score, recall_score\n",
    "print(\"Accuracy : \", accuracy_score(predictions, DV_test))\n",
    "print(\"Precision : \", precision_score(predictions, DV_test, average = 'weighted'))\n",
    "print(\"Recall : \", recall_score(predictions, DV_test, average = 'weighted'))"
   ]
  },
  {
   "cell_type": "code",
   "execution_count": 14,
   "metadata": {},
   "outputs": [
    {
     "name": "stdout",
     "output_type": "stream",
     "text": [
      "['Negative']\n"
     ]
    }
   ],
   "source": [
    "example = [\"The website is not working well\"]\n",
    "result=model.predict(example)\n",
    "print(result)"
   ]
  },
  {
   "cell_type": "code",
   "execution_count": 15,
   "metadata": {},
   "outputs": [
    {
     "name": "stdout",
     "output_type": "stream",
     "text": [
      "['Positive']\n"
     ]
    }
   ],
   "source": [
    "example2 = [\"easy to deal with\"]\n",
    "result=model.predict(example2)\n",
    "print(result)"
   ]
  },
  {
   "cell_type": "code",
   "execution_count": 16,
   "metadata": {},
   "outputs": [
    {
     "name": "stdout",
     "output_type": "stream",
     "text": [
      "['Positive']\n"
     ]
    }
   ],
   "source": [
    "example2 = [\"easy to understand\"]\n",
    "result=model.predict(example2)\n",
    "print(result)"
   ]
  },
  {
   "cell_type": "code",
   "execution_count": 17,
   "metadata": {},
   "outputs": [
    {
     "name": "stdout",
     "output_type": "stream",
     "text": [
      "['Negative']\n"
     ]
    }
   ],
   "source": [
    "example2 = [\"not able to add sku's\"]\n",
    "result=model.predict(example2)\n",
    "print(result)"
   ]
  }
 ],
 "metadata": {
  "kernelspec": {
   "display_name": "Python 3",
   "language": "python",
   "name": "python3"
  },
  "language_info": {
   "codemirror_mode": {
    "name": "ipython",
    "version": 3
   },
   "file_extension": ".py",
   "mimetype": "text/x-python",
   "name": "python",
   "nbconvert_exporter": "python",
   "pygments_lexer": "ipython3",
   "version": "3.8.3"
  }
 },
 "nbformat": 4,
 "nbformat_minor": 4
}
